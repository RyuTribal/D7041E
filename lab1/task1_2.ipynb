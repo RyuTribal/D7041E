{
 "cells": [
  {
   "cell_type": "code",
   "execution_count": 7,
   "metadata": {},
   "outputs": [],
   "source": [
    "import numpy as np\n",
    "import matplotlib.pyplot as plt"
   ]
  },
  {
   "cell_type": "code",
   "execution_count": 8,
   "metadata": {},
   "outputs": [],
   "source": [
    "vecs_array = np.load(\"not_own_dataset/vecs.npy\", allow_pickle=True).item()"
   ]
  },
  {
   "cell_type": "code",
   "execution_count": 9,
   "metadata": {},
   "outputs": [],
   "source": [
    "def get_two_arrays(position, vecs_array, num_of_samples = -1):\n",
    "    keys_string = str(position) + \"_pos\"\n",
    "    \n",
    "    if keys_string not in vecs_array:\n",
    "        return None, None\n",
    "    \n",
    "    \n",
    "    print(np.array(vecs_array[keys_string][0]).shape)\n",
    "    \n",
    "\n",
    "    labels = []\n",
    "    embeddings = []\n",
    "    sample_counter = 0\n",
    "    for key in vecs_array[keys_string]:\n",
    "\n",
    "        for value in vecs_array[keys_string][key]:\n",
    "            if sample_counter >= num_of_samples and num_of_samples != -1:\n",
    "                break\n",
    "            labels.append(key)\n",
    "            embeddings.append(value)\n",
    "            sample_counter += 1\n",
    "    \n",
    "\n",
    "    return np.array(embeddings), np.array(labels)"
   ]
  },
  {
   "cell_type": "code",
   "execution_count": 10,
   "metadata": {},
   "outputs": [],
   "source": [
    "def randomize_array(embeddings, labels):\n",
    "    indices = np.arange(len(labels)) \n",
    "    np.random.shuffle(indices) \n",
    "    return embeddings[indices], labels[indices]"
   ]
  },
  {
   "cell_type": "code",
   "execution_count": 11,
   "metadata": {},
   "outputs": [],
   "source": [
    "def print_vecs(data, title, num_to_display=5):\n",
    "    embeddings, labels = data\n",
    "    print(f\"=== {title} ===\")\n",
    "    print(f\"Displaying {num_to_display} out of {len(embeddings)} data points.\")\n",
    "    \n",
    "    # Header\n",
    "    print(\"\\n{:<10} | {:<20} | Embedding Values\".format(\"Index\", \"Label\"))\n",
    "    print(\"-\" * 60)\n",
    "    \n",
    "    for idx in range(min(num_to_display, len(embeddings))):\n",
    "        # Check if embeddings are scalar or array-like\n",
    "        if np.isscalar(embeddings[idx]):\n",
    "            truncated_embedding = str(embeddings[idx])\n",
    "        else:\n",
    "            truncated_embedding = \", \".join(map(str, embeddings[idx][:5])) + \"...\"\n",
    "        \n",
    "        print(\"{:<10} | {:<20} | {}\".format(idx, str(labels[idx]), truncated_embedding))\n",
    "\n",
    "    print(\"\\n\")\n"
   ]
  },
  {
   "cell_type": "markdown",
   "metadata": {},
   "source": [
    "In the function get_two_arrays, the third variable is to limit the amout of embedds that gets returned for easier debugging"
   ]
  },
  {
   "cell_type": "code",
   "execution_count": 12,
   "metadata": {},
   "outputs": [
    {
     "name": "stdout",
     "output_type": "stream",
     "text": [
      "(122, 1024)\n",
      "=== Before ===\n",
      "Displaying 10 out of 10 data points.\n",
      "\n",
      "Index      | Label                | Embedding Values\n",
      "------------------------------------------------------------\n",
      "0          | 0                    | -0.0, -0.0, -0.0, -0.0, -0.0...\n",
      "1          | 0                    | -0.0, -0.0, -0.0, -0.0, -0.0...\n",
      "2          | 0                    | -0.0, -0.0, -0.0, -0.0, -0.0...\n",
      "3          | 0                    | -0.0, -0.0, -0.0, -0.0, -0.0...\n",
      "4          | 0                    | -0.0, -0.0, -0.0, -0.0, -0.0...\n",
      "5          | 0                    | -0.0, -0.0, -0.0, -0.0, -0.0...\n",
      "6          | 0                    | -0.0, -0.0, -0.0, -0.0, -0.0...\n",
      "7          | 0                    | -0.0, -0.0, -0.0, -0.0, -0.0...\n",
      "8          | 0                    | -0.0, -0.0, -0.0, -0.0, -0.0...\n",
      "9          | 0                    | -0.0, -0.0, -4.2848642e-18, -0.0, -0.0...\n",
      "\n",
      "\n",
      "=== After ===\n",
      "Displaying 10 out of 10 data points.\n",
      "\n",
      "Index      | Label                | Embedding Values\n",
      "------------------------------------------------------------\n",
      "0          | 0                    | -0.0, -0.0, -0.0, -0.0, -0.0...\n",
      "1          | 0                    | -0.0, -0.0, -0.0, -0.0, -0.0...\n",
      "2          | 0                    | -0.0, -0.0, -0.0, -0.0, -0.0...\n",
      "3          | 0                    | -0.0, -0.0, -0.0, -0.0, -0.0...\n",
      "4          | 0                    | -0.0, -0.0, -0.0, -0.0, -0.0...\n",
      "5          | 0                    | -0.0, -0.0, -0.0, -0.0, -0.0...\n",
      "6          | 0                    | -0.0, -0.0, -4.2848642e-18, -0.0, -0.0...\n",
      "7          | 0                    | -0.0, -0.0, -0.0, -0.0, -0.0...\n",
      "8          | 0                    | -0.0, -0.0, -0.0, -0.0, -0.0...\n",
      "9          | 0                    | -0.0, -0.0, -0.0, -0.0, -0.0...\n",
      "\n",
      "\n"
     ]
    }
   ],
   "source": [
    "embeddings, labels = get_two_arrays(1, vecs_array, 10)\n",
    "print_vecs((embeddings, labels), \"Before\", 10)\n",
    "\n",
    "random_embeddings, random_labels = randomize_array(embeddings, labels)\n",
    "print_vecs((random_embeddings, random_labels), \"After\", 10)"
   ]
  }
 ],
 "metadata": {
  "kernelspec": {
   "display_name": "Python 3",
   "language": "python",
   "name": "python3"
  },
  "language_info": {
   "codemirror_mode": {
    "name": "ipython",
    "version": 3
   },
   "file_extension": ".py",
   "mimetype": "text/x-python",
   "name": "python",
   "nbconvert_exporter": "python",
   "pygments_lexer": "ipython3",
   "version": "3.10.2"
  }
 },
 "nbformat": 4,
 "nbformat_minor": 2
}
