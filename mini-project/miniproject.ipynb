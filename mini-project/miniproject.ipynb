{
 "cells": [
  {
   "cell_type": "markdown",
   "metadata": {},
   "source": [
    "# Implementing a simple MLP using tutorial\n",
    "\n",
    "## Mini-project group 17: Andreas Holmström and Ivan Sedelkin\n",
    "## Date: 2023-12-20\n",
    "\n",
    "This project is about implementing a simple Multilayer Perceptron. \n",
    "Here we try to train a network with different parameters. We have decided to experiment with different amount of hidden layers and different amount of hidden layer sizes. \n",
    "To make it easier to try different sizes, we decided to have the size of the next hidden layer to be half of the previous one for simplicity. This may affect performance. "
   ]
  },
  {
   "cell_type": "code",
   "execution_count": 1,
   "metadata": {},
   "outputs": [],
   "source": [
    "# Imports\n",
    "import torch\n",
    "import torch.nn as nn\n",
    "from keras.datasets import mnist\n",
    "from tqdm import tqdm"
   ]
  },
  {
   "cell_type": "code",
   "execution_count": 2,
   "metadata": {},
   "outputs": [],
   "source": [
    "# Inspiration:\n",
    "# https://machinelearningmastery.com/building-multilayer-perceptron-models-in-pytorch/\n",
    "# https://www.kaggle.com/code/riteshsinha/neural-networks-with-pytorch-mnist\n",
    "\n",
    "class SimpleMLP:\n",
    "    def __init__(self, training_data, training_labels, testing_data, testing_labels):\n",
    "        self.training_data = training_data\n",
    "        self.training_labels = training_labels\n",
    "        self.testing_data = testing_data\n",
    "        self.testing_labels = testing_labels\n",
    "        self.accuracy = 0\n",
    "\n",
    "    def create_model(self, model, number_of_layers, maximum_size_of_hidden_layer, input_size, output_size):\n",
    "        self.model = model\n",
    "        self.model.add_module(\"Input layer\",nn.Linear(input_size, maximum_size_of_hidden_layer))\n",
    "        self.model.add_module(\"Input layer activation\", nn.ReLU())\n",
    "        size = maximum_size_of_hidden_layer\n",
    "        for layer in range(0, number_of_layers):\n",
    "            self.model.add_module(\"Hidden layer number: \" + str((layer + 1)), nn.Linear(size, size//2))\n",
    "            self.model.add_module(\"Hidden layer activation number: \" + str((layer + 1)), nn.ReLU())\n",
    "            size = size//2\n",
    "        self.model.add_module(\"Output layer\", nn.Linear(size, output_size))\n",
    "\n",
    "    def train_model(self, loss_function, optimizer):\n",
    "        self.model.train(mode=True)\n",
    "        loss_fn = loss_function\n",
    "        optimizer = optimizer\n",
    "\n",
    "        for data, label in tqdm(zip(self.training_data, self.training_labels)):\n",
    "            y_pred = self.model(data)\n",
    "            loss = loss_fn(y_pred, label)\n",
    "            optimizer.zero_grad()\n",
    "            loss.backward()\n",
    "            optimizer.step()\n",
    "        self.model.train(mode=False)\n",
    "    \n",
    "    def test_model(self):\n",
    "        right_answers = 0\n",
    "        number_of_iterations = 0\n",
    "        for data, label in tqdm(zip(self.testing_data, self.testing_labels)):\n",
    "            y_pred = self.model(data)\n",
    "            _, predicted = torch.max(y_pred.data, 0)\n",
    "            if predicted.item() == label.item():\n",
    "                right_answers += 1\n",
    "            number_of_iterations += 1\n",
    "        \n",
    "        # Accuracy\n",
    "        accuracy = right_answers / number_of_iterations\n",
    "        self.accuracy = accuracy\n",
    "        \n",
    "\n"
   ]
  },
  {
   "cell_type": "code",
   "execution_count": 3,
   "metadata": {},
   "outputs": [],
   "source": [
    "# Initialize training data and test data from MNIST\n",
    "\n",
    "(x_train, y_train), (x_test, y_test) = mnist.load_data()\n",
    "x_train_flattened = torch.tensor(x_train.reshape(60000, -1),dtype=torch.float32) # (60000, 784)\n",
    "y_train = torch.tensor(y_train) # (60000,)\n",
    "x_test_flattened = torch.tensor(x_test.reshape(10000, -1),dtype=torch.float32) # (10000, 784)\n",
    "y_test = torch.tensor(y_test) # (10000,)\n",
    "\n",
    "input_size = x_train_flattened.shape[1]\n",
    "output_size = 10\n",
    "number_of_hidden_layers = 1\n",
    "maximum_size_of_hidden_layer = 100\n",
    "\n",
    "training_data = x_train_flattened\n",
    "training_labels = y_train\n",
    "testing_data = x_test_flattened\n",
    "testing_labels = y_test\n",
    "\n",
    "hidden_layer_sizes = [100, 200, 400]\n",
    "hidden_layers = [1,2,4]\n"
   ]
  },
  {
   "cell_type": "code",
   "execution_count": 4,
   "metadata": {},
   "outputs": [
    {
     "name": "stdout",
     "output_type": "stream",
     "text": [
      "Cross Entropy loss function using SGD as optimizer\n",
      "\n"
     ]
    },
    {
     "name": "stderr",
     "output_type": "stream",
     "text": [
      "60000it [00:38, 1564.56it/s]\n",
      "10000it [00:01, 6530.85it/s]\n"
     ]
    },
    {
     "name": "stdout",
     "output_type": "stream",
     "text": [
      "Accuracy for 1 hidden layers with 100 hidden layer maximum size was: \t90.23%\n",
      "\n"
     ]
    },
    {
     "name": "stderr",
     "output_type": "stream",
     "text": [
      "60000it [00:44, 1345.34it/s]\n",
      "10000it [00:01, 5004.51it/s]\n"
     ]
    },
    {
     "name": "stdout",
     "output_type": "stream",
     "text": [
      "Accuracy for 2 hidden layers with 100 hidden layer maximum size was: \t94.18%\n",
      "\n"
     ]
    },
    {
     "name": "stderr",
     "output_type": "stream",
     "text": [
      "60000it [00:59, 1015.57it/s]\n",
      "10000it [00:02, 3539.77it/s]\n"
     ]
    },
    {
     "name": "stdout",
     "output_type": "stream",
     "text": [
      "Accuracy for 4 hidden layers with 100 hidden layer maximum size was: \t92.42%\n",
      "\n"
     ]
    },
    {
     "name": "stderr",
     "output_type": "stream",
     "text": [
      "60000it [00:44, 1349.84it/s]\n",
      "10000it [00:01, 5726.16it/s]\n"
     ]
    },
    {
     "name": "stdout",
     "output_type": "stream",
     "text": [
      "Accuracy for 1 hidden layers with 200 hidden layer maximum size was: \t89.56%\n",
      "\n"
     ]
    },
    {
     "name": "stderr",
     "output_type": "stream",
     "text": [
      "60000it [01:23, 715.10it/s]\n",
      "10000it [00:03, 3196.00it/s]\n"
     ]
    },
    {
     "name": "stdout",
     "output_type": "stream",
     "text": [
      "Accuracy for 2 hidden layers with 200 hidden layer maximum size was: \t94.39%\n",
      "\n"
     ]
    },
    {
     "name": "stderr",
     "output_type": "stream",
     "text": [
      "60000it [01:39, 603.17it/s]\n",
      "10000it [00:04, 2170.37it/s]\n"
     ]
    },
    {
     "name": "stdout",
     "output_type": "stream",
     "text": [
      "Accuracy for 4 hidden layers with 200 hidden layer maximum size was: \t93.84%\n",
      "\n"
     ]
    },
    {
     "name": "stderr",
     "output_type": "stream",
     "text": [
      "60000it [02:00, 498.76it/s]\n",
      "10000it [00:02, 3399.38it/s]\n"
     ]
    },
    {
     "name": "stdout",
     "output_type": "stream",
     "text": [
      "Accuracy for 1 hidden layers with 400 hidden layer maximum size was: \t88.26%\n",
      "\n"
     ]
    },
    {
     "name": "stderr",
     "output_type": "stream",
     "text": [
      "60000it [02:04, 480.79it/s]\n",
      "10000it [00:02, 3728.84it/s]\n"
     ]
    },
    {
     "name": "stdout",
     "output_type": "stream",
     "text": [
      "Accuracy for 2 hidden layers with 400 hidden layer maximum size was: \t95.11%\n",
      "\n"
     ]
    },
    {
     "name": "stderr",
     "output_type": "stream",
     "text": [
      "60000it [02:09, 463.15it/s]\n",
      "10000it [00:03, 2678.46it/s]"
     ]
    },
    {
     "name": "stdout",
     "output_type": "stream",
     "text": [
      "Accuracy for 4 hidden layers with 400 hidden layer maximum size was: \t95.79%\n",
      "\n"
     ]
    },
    {
     "name": "stderr",
     "output_type": "stream",
     "text": [
      "\n"
     ]
    }
   ],
   "source": [
    "# ------------------------- Cross Entropy Loss ------------------------- #\n",
    "\n",
    "cost_function = nn.CrossEntropyLoss()\n",
    "print(\"Cross Entropy loss function using SGD as optimizer\\n\")\n",
    "# Adam was really slow.\n",
    "\n",
    "# Changing the amount of hidden layers and its maximum size\n",
    "for hidden_layer_size in hidden_layer_sizes:\n",
    "    for layers in hidden_layers:\n",
    "        mlp = SimpleMLP(training_data=training_data, training_labels=training_labels, testing_data=testing_data, testing_labels=testing_labels)\n",
    "        mlp.create_model(nn.Sequential(), layers, hidden_layer_size, input_size, output_size)\n",
    "        mlp.train_model(cost_function, torch.optim.SGD(mlp.model.parameters(), lr=0.001))\n",
    "        mlp.test_model()\n",
    "        print(f\"Accuracy for {str(layers)} hidden layers with {str(hidden_layer_size)} hidden layer maximum size was: \\t{mlp.accuracy*100:.2f}%\")\n",
    "        print()\n",
    "\n",
    "# ---------------------------------------------------------------------- #"
   ]
  },
  {
   "cell_type": "code",
   "execution_count": 7,
   "metadata": {},
   "outputs": [
    {
     "name": "stdout",
     "output_type": "stream",
     "text": [
      "Mean Square Error loss function\n",
      "\n"
     ]
    },
    {
     "name": "stderr",
     "output_type": "stream",
     "text": [
      "60000it [03:04, 325.24it/s]\n",
      "10000it [00:01, 5129.26it/s]\n"
     ]
    },
    {
     "name": "stdout",
     "output_type": "stream",
     "text": [
      "Accuracy for 1 hidden layers with 100 hidden layer maximum size was: \t12.40%\n",
      "\n"
     ]
    },
    {
     "name": "stderr",
     "output_type": "stream",
     "text": [
      "60000it [03:46, 265.34it/s]\n",
      "10000it [00:03, 2926.51it/s]\n"
     ]
    },
    {
     "name": "stdout",
     "output_type": "stream",
     "text": [
      "Accuracy for 2 hidden layers with 100 hidden layer maximum size was: \t6.65%\n",
      "\n"
     ]
    },
    {
     "name": "stderr",
     "output_type": "stream",
     "text": [
      "60000it [05:47, 172.87it/s]\n",
      "10000it [00:24, 404.84it/s]\n"
     ]
    },
    {
     "name": "stdout",
     "output_type": "stream",
     "text": [
      "Accuracy for 4 hidden layers with 100 hidden layer maximum size was: \t2.79%\n",
      "\n"
     ]
    },
    {
     "name": "stderr",
     "output_type": "stream",
     "text": [
      "60000it [09:27, 105.82it/s]\n",
      "10000it [00:03, 3205.44it/s]\n"
     ]
    },
    {
     "name": "stdout",
     "output_type": "stream",
     "text": [
      "Accuracy for 1 hidden layers with 200 hidden layer maximum size was: \t0.57%\n",
      "\n"
     ]
    },
    {
     "name": "stderr",
     "output_type": "stream",
     "text": [
      "60000it [08:08, 122.90it/s]\n",
      "10000it [00:04, 2314.19it/s]\n"
     ]
    },
    {
     "name": "stdout",
     "output_type": "stream",
     "text": [
      "Accuracy for 2 hidden layers with 200 hidden layer maximum size was: \t0.44%\n",
      "\n"
     ]
    },
    {
     "name": "stderr",
     "output_type": "stream",
     "text": [
      "60000it [09:23, 106.42it/s]\n",
      "10000it [00:06, 1515.58it/s]\n"
     ]
    },
    {
     "name": "stdout",
     "output_type": "stream",
     "text": [
      "Accuracy for 4 hidden layers with 200 hidden layer maximum size was: \t1.05%\n",
      "\n"
     ]
    },
    {
     "name": "stderr",
     "output_type": "stream",
     "text": [
      "60000it [10:56, 91.36it/s] \n",
      "10000it [00:03, 2864.10it/s]\n"
     ]
    },
    {
     "name": "stdout",
     "output_type": "stream",
     "text": [
      "Accuracy for 1 hidden layers with 400 hidden layer maximum size was: \t11.49%\n",
      "\n"
     ]
    },
    {
     "name": "stderr",
     "output_type": "stream",
     "text": [
      "60000it [11:26, 87.35it/s] \n",
      "10000it [00:03, 3276.46it/s]\n"
     ]
    },
    {
     "name": "stdout",
     "output_type": "stream",
     "text": [
      "Accuracy for 2 hidden layers with 400 hidden layer maximum size was: \t11.16%\n",
      "\n"
     ]
    },
    {
     "name": "stderr",
     "output_type": "stream",
     "text": [
      "60000it [14:15, 70.14it/s]\n",
      "10000it [00:06, 1513.87it/s]"
     ]
    },
    {
     "name": "stdout",
     "output_type": "stream",
     "text": [
      "Accuracy for 4 hidden layers with 400 hidden layer maximum size was: \t13.89%\n",
      "\n"
     ]
    },
    {
     "name": "stderr",
     "output_type": "stream",
     "text": [
      "\n"
     ]
    }
   ],
   "source": [
    "# ------------------------- Mean Square Error -------------------------- #\n",
    "training_labels = training_labels.float()\n",
    "testing_labels = testing_labels.float()\n",
    "cost_function = nn.MSELoss()\n",
    "print(\"Mean Square Error loss function\\n\")\n",
    "# Had problems with SGD getting infinite gradients resulting in tensors of nan values and accuracies of 5-10%\n",
    "\n",
    "# Changing the amount of hidden layers and its maximum size\n",
    "for hidden_layer_size in hidden_layer_sizes:\n",
    "    for layers in hidden_layers:\n",
    "        mlp = SimpleMLP(training_data=training_data, training_labels=training_labels, testing_data=testing_data, testing_labels=testing_labels)\n",
    "        mlp.create_model(nn.Sequential(), layers, hidden_layer_size, input_size, output_size)\n",
    "        mlp.train_model(cost_function, torch.optim.Adam(mlp.model.parameters(), lr=0.001))\n",
    "        mlp.test_model()\n",
    "        print(f\"Accuracy for {str(layers)} hidden layers with {str(hidden_layer_size)} hidden layer maximum size was: \\t{mlp.accuracy*100:.2f}%\")\n",
    "        print()\n",
    "\n",
    "# ---------------------------------------------------------------------- #"
   ]
  },
  {
   "cell_type": "code",
   "execution_count": 34,
   "metadata": {},
   "outputs": [
    {
     "name": "stderr",
     "output_type": "stream",
     "text": [
      "60000it [05:03, 197.41it/s]\n"
     ]
    }
   ],
   "source": [
    "# ----------- BEST ONE FROM CROSS ENTROPY ----------- #\n",
    "training_labels = training_labels.long()\n",
    "\n",
    "mlp = SimpleMLP(training_data=training_data, training_labels=training_labels, testing_data=testing_data, testing_labels=testing_labels)\n",
    "mlp.create_model(nn.Sequential(), number_of_layers=4, maximum_size_of_hidden_layer=400, input_size=784, output_size=10)\n",
    "mlp.train_model(nn.CrossEntropyLoss(), torch.optim.SGD(mlp.model.parameters(), lr=0.001))"
   ]
  },
  {
   "cell_type": "code",
   "execution_count": 93,
   "metadata": {},
   "outputs": [
    {
     "name": "stdout",
     "output_type": "stream",
     "text": [
      "Random sample selected: 1.0\n",
      "Prediction: tensor(1)\n"
     ]
    },
    {
     "data": {
      "image/png": "[encoded data removed]",
      "text/plain": [
       "<Figure size 640x480 with 1 Axes>"
      ]
     },
     "metadata": {},
     "output_type": "display_data"
    }
   ],
   "source": [
    "# --------------- DEMO --------------- #\n",
    "\n",
    "import numpy as np\n",
    "import matplotlib.pyplot as plt\n",
    "rand_index = np.random.randint(0, testing_data.shape[0])\n",
    "random_sample_data = testing_data[rand_index]\n",
    "random_sample_label = testing_labels[rand_index]\n",
    "\n",
    "print(\"Random sample selected: \" + str(random_sample_label.item()))\n",
    "\n",
    "plt.imshow(random_sample_data.reshape(28,28))\n",
    "\n",
    "prediction = mlp.model(random_sample_data)\n",
    "_, prediction = torch.max(prediction, 0)\n",
    "print(\"Prediction: \" + str(prediction))\n",
    "\n",
    "\n"
   ]
  },
  {
   "cell_type": "markdown",
   "metadata": {},
   "source": [
    "## Conclusions\n",
    "\n",
    "Training our model with the Entropy Loss function yielded really good results. \n",
    "From what we've read, this is the standard for multilabel classification. \n",
    "The issue seems to be trying other loss functions. \n",
    "We have tried both L1Loss, HingeEmbedding, however after more research Hinge seemed to be used for binary classification.\n",
    "\n",
    "From what we now MSE lossfunction is for regression problems, but looking at some different tutorials they seem to use MSE but didn't work for us. \n",
    "Therefore it is probably an implementation problem from our side. In this project we have tried different amount of hidden layers and hidden layer sizes. \n",
    "We did not implement each model by themselves, instead tried to do a more flexible testing class for trying different amount of hidden layers and hidden layer sizes, perhaps this is the reason for our MSE loss function not performing as it should.\n",
    "\n"
   ]
  }
 ],
 "metadata": {
  "kernelspec": {
   "display_name": "Python 3",
   "language": "python",
   "name": "python3"
  },
  "language_info": {
   "codemirror_mode": {
    "name": "ipython",
    "version": 3
   },
   "file_extension": ".py",
   "mimetype": "text/x-python",
   "name": "python",
   "nbconvert_exporter": "python",
   "pygments_lexer": "ipython3",
   "version": "3.10.5"
  }
 },
 "nbformat": 4,
 "nbformat_minor": 2
}
